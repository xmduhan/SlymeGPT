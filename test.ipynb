{
 "cells": [
  {
   "cell_type": "code",
   "execution_count": 5,
   "id": "30973e64-7a76-4753-b8be-2234af44f268",
   "metadata": {},
   "outputs": [
    {
     "name": "stdout",
     "output_type": "stream",
     "text": [
      "............................................................"
     ]
    }
   ],
   "source": [
    "from flygpt.flygpt import FlyGPTClient\n",
    "client = FlyGPTClient()\n",
    "content = []\n",
    "for chunk in client.generate('用一个简单例子让我理解airflow的使用'):\n",
    "    content.append(chunk)\n",
    "    if chunk == '.':\n",
    "        print(chunk, end='')"
   ]
  },
  {
   "cell_type": "code",
   "execution_count": 6,
   "id": "b875670b-3841-4af8-8be2-b567af917850",
   "metadata": {},
   "outputs": [
    {
     "name": "stdout",
     "output_type": "stream",
     "text": [
      "pip install apache-airflow\n",
      "hello_airflow.py\n",
      "from airflow import DAG\n",
      "from airflow.operators.python_operator import PythonOperator\n",
      "from datetime import datetime\n",
      "\n",
      "# Define the DAG\n",
      "dag = DAG(\n",
      "    'hello_airflow',\n",
      "    description='A simple DAG to print \"Hello, Airflow!\"',\n",
      "    schedule_interval='@daily',  # Run the DAG daily\n",
      "    start_date=datetime(2024, 1, 1),\n",
      "    catchup=False\n",
      ")\n",
      "\n",
      "# Define the task function\n",
      "def print_hello():\n",
      "    print(\"Hello, Airflow!\")\n",
      "\n",
      "# Define the task\n",
      "hello_task = PythonOperator(\n",
      "    task_id='print_hello',\n",
      "    python_callable=print_hello,\n",
      "    dag=dag\n",
      ")\n",
      "\n",
      "# Define task dependencies\n",
      "hello_task\n",
      "\n",
      "airflow scheduler\n",
      "airflow webserver\n",
      "http://localhost:8080\n",
      "hello_airflow\n"
     ]
    }
   ],
   "source": [
    "from bs4 import BeautifulSoup\n",
    "soup = BeautifulSoup(content[-1])\n",
    "for code in soup.find_all('code'):\n",
    "    print(code.text)"
   ]
  },
  {
   "cell_type": "code",
   "execution_count": 7,
   "id": "cef77a52-9ee9-4743-b077-e6dda073e809",
   "metadata": {},
   "outputs": [
    {
     "data": {
      "text/plain": [
       "[<code>pip install apache-airflow</code>,\n",
       " <code>hello_airflow.py</code>,\n",
       " <code class=\"!whitespace-pre hljs language-python\"><span class=\"hljs-keyword\">from</span> airflow <span class=\"hljs-keyword\">import</span> DAG\n",
       " <span class=\"hljs-keyword\">from</span> airflow.operators.python_operator <span class=\"hljs-keyword\">import</span> PythonOperator\n",
       " <span class=\"hljs-keyword\">from</span> datetime <span class=\"hljs-keyword\">import</span> datetime\n",
       " \n",
       " <span class=\"hljs-comment\"># Define the DAG</span>\n",
       " dag = DAG(\n",
       "     <span class=\"hljs-string\">'hello_airflow'</span>,\n",
       "     description=<span class=\"hljs-string\">'A simple DAG to print \"Hello, Airflow!\"'</span>,\n",
       "     schedule_interval=<span class=\"hljs-string\">'@daily'</span>,  <span class=\"hljs-comment\"># Run the DAG daily</span>\n",
       "     start_date=datetime(<span class=\"hljs-number\">2024</span>, <span class=\"hljs-number\">1</span>, <span class=\"hljs-number\">1</span>),\n",
       "     catchup=<span class=\"hljs-literal\">False</span>\n",
       " )\n",
       " \n",
       " <span class=\"hljs-comment\"># Define the task function</span>\n",
       " <span class=\"hljs-keyword\">def</span> <span class=\"hljs-title function_\">print_hello</span>():\n",
       "     <span class=\"hljs-built_in\">print</span>(<span class=\"hljs-string\">\"Hello, Airflow!\"</span>)\n",
       " \n",
       " <span class=\"hljs-comment\"># Define the task</span>\n",
       " hello_task = PythonOperator(\n",
       "     task_id=<span class=\"hljs-string\">'print_hello'</span>,\n",
       "     python_callable=print_hello,\n",
       "     dag=dag\n",
       " )\n",
       " \n",
       " <span class=\"hljs-comment\"># Define task dependencies</span>\n",
       " hello_task\n",
       " </code>,\n",
       " <code>airflow scheduler</code>,\n",
       " <code>airflow webserver</code>,\n",
       " <code>http://localhost:8080</code>,\n",
       " <code>hello_airflow</code>]"
      ]
     },
     "execution_count": 7,
     "metadata": {},
     "output_type": "execute_result"
    }
   ],
   "source": [
    "soup.find_all('code')"
   ]
  },
  {
   "cell_type": "code",
   "execution_count": null,
   "id": "7b24c41d-44bb-4081-a40b-3c60579cb343",
   "metadata": {},
   "outputs": [],
   "source": [
    "for path in output_files:\n",
    "    \n",
    "\n",
    "<code class=\"!whitespace-pre hljs language-{}\">"
   ]
  }
 ],
 "metadata": {
  "kernelspec": {
   "display_name": "Python 3 (ipykernel)",
   "language": "python",
   "name": "python3"
  },
  "language_info": {
   "codemirror_mode": {
    "name": "ipython",
    "version": 3
   },
   "file_extension": ".py",
   "mimetype": "text/x-python",
   "name": "python",
   "nbconvert_exporter": "python",
   "pygments_lexer": "ipython3",
   "version": "3.10.13"
  }
 },
 "nbformat": 4,
 "nbformat_minor": 5
}
