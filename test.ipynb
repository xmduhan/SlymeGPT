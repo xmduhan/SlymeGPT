{
 "cells": [
  {
   "cell_type": "code",
   "execution_count": null,
   "id": "050676fa-d854-4367-b32f-53b98f766c21",
   "metadata": {},
   "outputs": [],
   "source": [
    "from selenium import webdriver\n",
    "import undetected_chromedriver as uc"
   ]
  },
  {
   "cell_type": "code",
   "execution_count": null,
   "id": "720d1d0e-6cec-4a95-8265-58fecf9e148b",
   "metadata": {},
   "outputs": [],
   "source": [
    "import undetected_chromedriver as uc\n",
    "driver = uc.Chrome(headless=True,use_subprocess=False)\n",
    "driver.get('https://nowsecure.nl')\n",
    "driver.save_screenshot('nowsecure.png')"
   ]
  }
 ],
 "metadata": {
  "kernelspec": {
   "display_name": "Python 3 (ipykernel)",
   "language": "python",
   "name": "python3"
  },
  "language_info": {
   "codemirror_mode": {
    "name": "ipython",
    "version": 3
   },
   "file_extension": ".py",
   "mimetype": "text/x-python",
   "name": "python",
   "nbconvert_exporter": "python",
   "pygments_lexer": "ipython3",
   "version": "3.10.13"
  }
 },
 "nbformat": 4,
 "nbformat_minor": 5
}
