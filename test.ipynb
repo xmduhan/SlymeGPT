{
 "cells": [
  {
   "cell_type": "code",
   "execution_count": 4,
   "id": "30973e64-7a76-4753-b8be-2234af44f268",
   "metadata": {},
   "outputs": [],
   "source": [
    "from flygpt.flygpt import FlyGPTClient\n",
    "client = FlyGPTClient()\n",
    "content = []\n",
    "for chunk in client.generate('帮我写一段python代码，判断一个字符串是否是身份证号码'):\n",
    "    content.append(chunk)\n",
    "    # print(chunk, end='')"
   ]
  },
  {
   "cell_type": "code",
   "execution_count": 5,
   "id": "b875670b-3841-4af8-8be2-b567af917850",
   "metadata": {},
   "outputs": [
    {
     "name": "stdout",
     "output_type": "stream",
     "text": [
      "def is_valid_id_card(id_number):\n",
      "    # 身份证号码长度应该为18位\n",
      "    if len(id_number) != 18:\n",
      "        return False\n",
      "    \n",
      "    # 前17位应该都是数字\n",
      "    if not id_number[:17].isdigit():\n",
      "        return False\n",
      "\n",
      "    # 校验最后一位是否为数字或者 'X'\n",
      "    if not (id_number[-1].isdigit() or id_number[-1] == 'X'):\n",
      "        return False\n",
      "\n",
      "    # 校验前17位的日期格式是否合法\n",
      "    birth_date = id_number[6:14]\n",
      "    year = birth_date[:4]\n",
      "    month = birth_date[4:6]\n",
      "    day = birth_date[6:]\n",
      "    try:\n",
      "        from datetime import datetime\n",
      "        datetime(int(year), int(month), int(day))\n",
      "    except ValueError:\n",
      "        return False\n",
      "\n",
      "    # 校验最后一位是否符合校验规则\n",
      "    factors = [7, 9, 10, 5, 8, 4, 2, 1, 6, 3, 7, 9, 10, 5, 8, 4, 2]\n",
      "    check_sum = sum(int(id_number[i]) * factors[i] for i in range(17)) % 11\n",
      "    check_dict = {0: '1', 1: '0', 2: 'X', 3: '9', 4: '8', 5: '7', 6: '6', 7: '5', 8: '4', 9: '3', 10: '2'}\n",
      "    if id_number[-1] != check_dict[check_sum]:\n",
      "        return False\n",
      "\n",
      "    return True\n",
      "\n",
      "# 测试\n",
      "id_number = input(\"请输入身份证号码: \")\n",
      "if is_valid_id_card(id_number):\n",
      "    print(\"这是一个有效的身份证号码。\")\n",
      "else:\n",
      "    print(\"这不是一个有效的身份证号码。\")\n",
      "\n"
     ]
    }
   ],
   "source": [
    "from bs4 import BeautifulSoup\n",
    "soup = BeautifulSoup(content[-1])\n",
    "print(soup.find('code').text)"
   ]
  },
  {
   "cell_type": "code",
   "execution_count": 6,
   "id": "4a902872-8527-4873-a0ac-d3dd88da0133",
   "metadata": {},
   "outputs": [],
   "source": [
    "# content"
   ]
  }
 ],
 "metadata": {
  "kernelspec": {
   "display_name": "Python 3 (ipykernel)",
   "language": "python",
   "name": "python3"
  },
  "language_info": {
   "codemirror_mode": {
    "name": "ipython",
    "version": 3
   },
   "file_extension": ".py",
   "mimetype": "text/x-python",
   "name": "python",
   "nbconvert_exporter": "python",
   "pygments_lexer": "ipython3",
   "version": "3.10.13"
  }
 },
 "nbformat": 4,
 "nbformat_minor": 5
}
