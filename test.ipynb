{
 "cells": [
  {
   "cell_type": "code",
   "execution_count": 5,
   "id": "30973e64-7a76-4753-b8be-2234af44f268",
   "metadata": {},
   "outputs": [],
   "source": [
    "from flygpt.flygpt import FlyGPTClient\n",
    "client = FlyGPTClient()\n",
    "content = []\n",
    "for chunk in client.generate('帮我写一段python代码，判断一个字符还是否是手机号码'):\n",
    "    content.append(chunk)\n",
    "    # print(chunk, end='')"
   ]
  },
  {
   "cell_type": "code",
   "execution_count": 9,
   "id": "b875670b-3841-4af8-8be2-b567af917850",
   "metadata": {},
   "outputs": [
    {
     "name": "stdout",
     "output_type": "stream",
     "text": [
      "def is_valid_phone_number(number):\n",
      "    # 判断手机号是否为11位\n",
      "    if len(number) != 11:\n",
      "        return False\n",
      "    \n",
      "    # 判断手机号是否全部由数字组成\n",
      "    if not number.isdigit():\n",
      "        return False\n",
      "    \n",
      "    # 判断手机号的前两位是否符合规范\n",
      "    valid_prefixes = ['13', '14', '15', '16', '17', '18', '19']\n",
      "    if number[:2] not in valid_prefixes:\n",
      "        return False\n",
      "    \n",
      "    # 如果以上条件都满足，则判定为合法手机号\n",
      "    return True\n",
      "\n",
      "# 测试\n",
      "phone_number = input(\"请输入手机号码：\")\n",
      "if is_valid_phone_number(phone_number):\n",
      "    print(\"这是一个有效的手机号码。\")\n",
      "else:\n",
      "    print(\"这不是一个有效的手机号码。\")\n",
      "\n"
     ]
    }
   ],
   "source": [
    "from bs4 import BeautifulSoup\n",
    "soup = BeautifulSoup(content[-1])\n",
    "print(soup.find('code').text)"
   ]
  }
 ],
 "metadata": {
  "kernelspec": {
   "display_name": "Python 3 (ipykernel)",
   "language": "python",
   "name": "python3"
  },
  "language_info": {
   "codemirror_mode": {
    "name": "ipython",
    "version": 3
   },
   "file_extension": ".py",
   "mimetype": "text/x-python",
   "name": "python",
   "nbconvert_exporter": "python",
   "pygments_lexer": "ipython3",
   "version": "3.10.9"
  }
 },
 "nbformat": 4,
 "nbformat_minor": 5
}
