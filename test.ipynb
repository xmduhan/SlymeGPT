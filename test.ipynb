{
 "cells": [
  {
   "cell_type": "code",
   "execution_count": 2,
   "id": "30973e64-7a76-4753-b8be-2234af44f268",
   "metadata": {},
   "outputs": [
    {
     "name": "stdout",
     "output_type": "stream",
     "text": [
      "印度和美国都是拥有强大军事实力的国家，但它们在很多方面有所不同。美国是世界上最强大的军事力量之一，拥有全球最先进的军事技术和装备，同时拥有庞大的军事预算和高度专业化的军队。美国在全球范围内都有广泛的军事存在，拥有先进的海军、陆军、空军和特种部队，并且与许多盟友和伙伴国家保持紧密合作。\n",
      "与此相比，印度的军事实力也很强大，拥有庞大的军队和战略地位。印度在南亚地区拥有重要的地缘政治地位，其陆军和海军都在不断发展和现代化。但是，与美国相比，印度在一些方面可能会面临一些挑战，如技术水平、装备现代化程度和军事预算等方面。\n",
      "因此，要对印度和美国的军事实力进行比较，需要考虑到各种因素，并且要明确比较的背景和领域。在全球范围内，美国的军事实力普遍被认为是最强大的之一，但在某些地区，如南亚地区，印度的军事实力也具有重要影响力。"
     ]
    }
   ],
   "source": [
    "from flygpt.flygpt import FlyGPTClient\n",
    "client = FlyGPTClient()\n",
    "for tokens in client.generate('你觉得是印度的军事实力强还是美国的军事实力强？'):\n",
    "    print(tokens, end='')"
   ]
  }
 ],
 "metadata": {
  "kernelspec": {
   "display_name": "Python 3 (ipykernel)",
   "language": "python",
   "name": "python3"
  },
  "language_info": {
   "codemirror_mode": {
    "name": "ipython",
    "version": 3
   },
   "file_extension": ".py",
   "mimetype": "text/x-python",
   "name": "python",
   "nbconvert_exporter": "python",
   "pygments_lexer": "ipython3",
   "version": "3.10.13"
  }
 },
 "nbformat": 4,
 "nbformat_minor": 5
}
