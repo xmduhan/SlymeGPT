{
 "cells": [
  {
   "cell_type": "code",
   "execution_count": 1,
   "id": "f85e6c7b-15b4-4bd4-906c-6f380bb8249c",
   "metadata": {},
   "outputs": [],
   "source": [
    "from src.flygpt import FlyGPT\n",
    "flygpt = FlyGPT(proxy_server='http://127.0.0.1:1081')"
   ]
  },
  {
   "cell_type": "code",
   "execution_count": 2,
   "id": "307df358-8313-4eb5-9496-2b97d8b946da",
   "metadata": {},
   "outputs": [],
   "source": [
    "self = flygpt\n",
    "from time import sleep"
   ]
  },
  {
   "cell_type": "code",
   "execution_count": 3,
   "id": "6a4f2024-6240-4bdd-b56b-1ee4d2dd481b",
   "metadata": {},
   "outputs": [
    {
     "name": "stdout",
     "output_type": "stream",
     "text": [
      "不客气，如果你有任何其他问题，随时都可以问我。"
     ]
    }
   ],
   "source": [
    "flygpt.send('嗯嗯，我了解了，谢谢你')\n",
    "for i in flygpt.recv():\n",
    "    print(i, end='')"
   ]
  },
  {
   "cell_type": "code",
   "execution_count": 4,
   "id": "e07de50e-add0-49ee-9c11-7aeb27fc7baf",
   "metadata": {},
   "outputs": [],
   "source": [
    "flygpt.clear_session()"
   ]
  }
 ],
 "metadata": {
  "kernelspec": {
   "display_name": "Python 3 (ipykernel)",
   "language": "python",
   "name": "python3"
  },
  "language_info": {
   "codemirror_mode": {
    "name": "ipython",
    "version": 3
   },
   "file_extension": ".py",
   "mimetype": "text/x-python",
   "name": "python",
   "nbconvert_exporter": "python",
   "pygments_lexer": "ipython3",
   "version": "3.10.13"
  }
 },
 "nbformat": 4,
 "nbformat_minor": 5
}
