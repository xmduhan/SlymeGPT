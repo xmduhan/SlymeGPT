{
 "cells": [
  {
   "cell_type": "code",
   "execution_count": 12,
   "id": "30973e64-7a76-4753-b8be-2234af44f268",
   "metadata": {},
   "outputs": [
    {
     "name": "stdout",
     "output_type": "stream",
     "text": [
      "当然，请看以下五个谚语：\n",
      "\n",
      "1. 落井下石：意指在别人遭遇困难时，再给他一击，加重其痛苦。\n",
      "2. 一鸟在手胜过双鸟在林：意指拥有现实可得的东西比追求可能得不到的东西更有价值。\n",
      "3. 时光如梭：比喻时间过得很快。\n",
      "4. 前人栽树，后人乘凉：强调前人的努力或智慧为后人创造了方便或条件。\n",
      "5. 知足常乐：意指知道满足就会常常感到快乐。"
     ]
    }
   ],
   "source": [
    "from flygpt.flygpt import FlyGPTClient\n",
    "client = FlyGPTClient()\n",
    "for tokens in client.generate('告诉我五个谚语'):\n",
    "    print(tokens, end='')"
   ]
  },
  {
   "cell_type": "code",
   "execution_count": 9,
   "id": "b74bd264-0b7f-4b6d-ae64-f55123582836",
   "metadata": {},
   "outputs": [],
   "source": [
    "x = md('<p>当然，请享用：</p><ol><li>为什么书本不喜欢和电脑玩牌？因为它</li></ol>')"
   ]
  },
  {
   "cell_type": "code",
   "execution_count": 10,
   "id": "63299caa-44f9-4dba-a830-ccf48c1bcc23",
   "metadata": {},
   "outputs": [
    {
     "data": {
      "text/plain": [
       "'当然，请享用：\\n\\n1. 为什么书本不喜欢和电脑玩牌？因为它'"
      ]
     },
     "execution_count": 10,
     "metadata": {},
     "output_type": "execute_result"
    }
   ],
   "source": [
    "x.strip()"
   ]
  },
  {
   "cell_type": "code",
   "execution_count": 6,
   "id": "c91a2303-6c1d-4141-a0ba-060f3f68131f",
   "metadata": {},
   "outputs": [],
   "source": [
    "from markdownify import markdownify as md"
   ]
  },
  {
   "cell_type": "code",
   "execution_count": 8,
   "id": "78c32456-e8bf-48ad-a0ae-fdbefb530a18",
   "metadata": {},
   "outputs": [],
   "source": [
    "!pip freeze > requirements.txt"
   ]
  }
 ],
 "metadata": {
  "kernelspec": {
   "display_name": "Python 3 (ipykernel)",
   "language": "python",
   "name": "python3"
  },
  "language_info": {
   "codemirror_mode": {
    "name": "ipython",
    "version": 3
   },
   "file_extension": ".py",
   "mimetype": "text/x-python",
   "name": "python",
   "nbconvert_exporter": "python",
   "pygments_lexer": "ipython3",
   "version": "3.10.9"
  }
 },
 "nbformat": 4,
 "nbformat_minor": 5
}
