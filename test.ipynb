{
 "cells": [
  {
   "cell_type": "code",
   "execution_count": 21,
   "id": "30973e64-7a76-4753-b8be-2234af44f268",
   "metadata": {},
   "outputs": [
    {
     "name": "stdout",
     "output_type": "stream",
     "text": [
      "........................................................................................................................................."
     ]
    }
   ],
   "source": [
    "from flygpt.flygpt import FlyGPTClient\n",
    "client = FlyGPTClient()\n",
    "content = []\n",
    "for chunk in client.generate('用一个简单例子让我理解airflow的使用'):\n",
    "    content.append(chunk)\n",
    "    if chunk == '.':\n",
    "        print(chunk, end='')"
   ]
  },
  {
   "cell_type": "code",
   "execution_count": 22,
   "id": "b875670b-3841-4af8-8be2-b567af917850",
   "metadata": {},
   "outputs": [
    {
     "name": "stdout",
     "output_type": "stream",
     "text": [
      "hello_world_dag.py\n",
      "from airflow import DAG\n",
      "from airflow.operators.python_operator import PythonOperator\n",
      "from datetime import datetime\n",
      "\n",
      "def print_date():\n",
      "    print(\"Current date is:\", datetime.today())\n",
      "\n",
      "def print_hello():\n",
      "    print(\"Hello, World!\")\n",
      "\n",
      "# 定义DAG\n",
      "default_args = {\n",
      "    'owner': 'airflow',\n",
      "    'start_date': datetime(2024, 3, 27),\n",
      "    'retries': 1\n",
      "}\n",
      "\n",
      "dag = DAG('hello_world_dag', default_args=default_args, schedule_interval='@daily')\n",
      "\n",
      "# 定义两个任务\n",
      "task_print_date = PythonOperator(\n",
      "    task_id='print_date',\n",
      "    python_callable=print_date,\n",
      "    dag=dag\n",
      ")\n",
      "\n",
      "task_print_hello = PythonOperator(\n",
      "    task_id='print_hello',\n",
      "    python_callable=print_hello,\n",
      "    dag=dag\n",
      ")\n",
      "\n",
      "# 设置任务之间的依赖关系\n",
      "task_print_date >> task_print_hello\n",
      "\n",
      "print_date\n",
      "print_hello\n",
      "print_date\n",
      "print_hello\n",
      ">>\n",
      "print_hello\n",
      "print_date\n",
      "hello_world_dag.py\n"
     ]
    }
   ],
   "source": [
    "from bs4 import BeautifulSoup\n",
    "soup = BeautifulSoup(content[-1])\n",
    "for code in soup.find_all('code'):\n",
    "    print(code.text)"
   ]
  },
  {
   "cell_type": "code",
   "execution_count": 23,
   "id": "204d5b96-cb6c-4798-b0a0-f87d65d01490",
   "metadata": {},
   "outputs": [
    {
     "data": {
      "text/plain": [
       "'\\n<p>当您使用Airflow时，您通常会创建一个称为DAG（Directed Acyclic Graph）的工作流程，该工作流程定义了任务之间的依赖关系和执行顺序。以下是一个简单的例子，演示如何使用Airflow创建一个DAG，该DAG执行两个任务：一个任务打印当前日期，另一个任务打印\"Hello, World!\"。</p><p>首先，确保您已经安装了Airflow。然后，创建一个名为 <code>hello_world_dag.py</code> 的Python文件，其内容如下：</p><pre><div class=\"dark bg-gray-950 rounded-md\"><div class=\"flex items-center relative text-token-text-secondary bg-token-main-surface-secondary px-4 py-2 text-xs font-sans justify-between rounded-t-md\"><span>python</span><span class=\"\" data-state=\"closed\"><button class=\"flex gap-1 items-center\"><svg width=\"24\" height=\"24\" viewBox=\"0 0 24 24\" fill=\"none\" xmlns=\"http://www.w3.org/2000/svg\" class=\"icon-sm\"><path fill-rule=\"evenodd\" clip-rule=\"evenodd\" d=\"M12 3.5C10.8954 3.5 10 4.39543 10 5.5H14C14 4.39543 13.1046 3.5 12 3.5ZM8.53513 3.5C9.22675 2.3044 10.5194 1.5 12 1.5C13.4806 1.5 14.7733 2.3044 15.4649 3.5H17.25C18.9069 3.5 20.25 4.84315 20.25 6.5V18.5C20.25 20.1569 19.1569 21.5 17.25 21.5H6.75C5.09315 21.5 3.75 20.1569 3.75 18.5V6.5C3.75 4.84315 5.09315 3.5 6.75 3.5H8.53513ZM8 5.5H6.75C6.19772 5.5 5.75 5.94772 5.75 6.5V18.5C5.75 19.0523 6.19772 19.5 6.75 19.5H17.25C18.0523 19.5 18.25 19.0523 18.25 18.5V6.5C18.25 5.94772 17.8023 5.5 17.25 5.5H16C16 6.60457 15.1046 7.5 14 7.5H10C8.89543 7.5 8 6.60457 8 5.5Z\" fill=\"currentColor\"></path></svg>Copy code</button></span></div><div class=\"p-4 overflow-y-auto\"><code class=\"!whitespace-pre hljs language-python\"><span class=\"hljs-keyword\">from</span> airflow <span class=\"hljs-keyword\">import</span> DAG\\n<span class=\"hljs-keyword\">from</span> airflow.operators.python_operator <span class=\"hljs-keyword\">import</span> PythonOperator\\n<span class=\"hljs-keyword\">from</span> datetime <span class=\"hljs-keyword\">import</span> datetime\\n\\n<span class=\"hljs-keyword\">def</span> <span class=\"hljs-title function_\">print_date</span>():\\n    <span class=\"hljs-built_in\">print</span>(<span class=\"hljs-string\">\"Current date is:\"</span>, datetime.today())\\n\\n<span class=\"hljs-keyword\">def</span> <span class=\"hljs-title function_\">print_hello</span>():\\n    <span class=\"hljs-built_in\">print</span>(<span class=\"hljs-string\">\"Hello, World!\"</span>)\\n\\n<span class=\"hljs-comment\"># 定义DAG</span>\\ndefault_args = {\\n    <span class=\"hljs-string\">\\'owner\\'</span>: <span class=\"hljs-string\">\\'airflow\\'</span>,\\n    <span class=\"hljs-string\">\\'start_date\\'</span>: datetime(<span class=\"hljs-number\">2024</span>, <span class=\"hljs-number\">3</span>, <span class=\"hljs-number\">27</span>),\\n    <span class=\"hljs-string\">\\'retries\\'</span>: <span class=\"hljs-number\">1</span>\\n}\\n\\ndag = DAG(<span class=\"hljs-string\">\\'hello_world_dag\\'</span>, default_args=default_args, schedule_interval=<span class=\"hljs-string\">\\'@daily\\'</span>)\\n\\n<span class=\"hljs-comment\"># 定义两个任务</span>\\ntask_print_date = PythonOperator(\\n    task_id=<span class=\"hljs-string\">\\'print_date\\'</span>,\\n    python_callable=print_date,\\n    dag=dag\\n)\\n\\ntask_print_hello = PythonOperator(\\n    task_id=<span class=\"hljs-string\">\\'print_hello\\'</span>,\\n    python_callable=print_hello,\\n    dag=dag\\n)\\n\\n<span class=\"hljs-comment\"># 设置任务之间的依赖关系</span>\\ntask_print_date &gt;&gt; task_print_hello\\n</code></div></div></pre><p>在这个例子中，我们首先导入了Airflow相关的模块和依赖项。然后，我们定义了两个Python函数 <code>print_date</code> 和 <code>print_hello</code>，分别用于打印当前日期和打印\"Hello, World!\"。</p><p>接下来，我们定义了一个DAG，指定了一些默认参数，比如任务所有者、开始日期和重试次数。然后，我们创建了两个PythonOperator任务，分别对应于 <code>print_date</code> 和 <code>print_hello</code> 函数。</p><p>最后，我们通过 <code>&gt;&gt;</code> 运算符指定了任务之间的依赖关系，使得 <code>print_hello</code> 任务在 <code>print_date</code> 任务完成后执行。</p><p>要运行这个DAG，您需要将 <code>hello_world_dag.py</code> 文件放置在Airflow的DAG目录中，并启动Airflow的调度器和Web服务器。然后，您可以在Airflow的Web界面中看到并运行这个DAG。</p>'"
      ]
     },
     "execution_count": 23,
     "metadata": {},
     "output_type": "execute_result"
    }
   ],
   "source": [
    "content[-1]"
   ]
  },
  {
   "cell_type": "code",
   "execution_count": null,
   "id": "cef77a52-9ee9-4743-b077-e6dda073e809",
   "metadata": {},
   "outputs": [],
   "source": []
  }
 ],
 "metadata": {
  "kernelspec": {
   "display_name": "Python 3 (ipykernel)",
   "language": "python",
   "name": "python3"
  },
  "language_info": {
   "codemirror_mode": {
    "name": "ipython",
    "version": 3
   },
   "file_extension": ".py",
   "mimetype": "text/x-python",
   "name": "python",
   "nbconvert_exporter": "python",
   "pygments_lexer": "ipython3",
   "version": "3.10.13"
  }
 },
 "nbformat": 4,
 "nbformat_minor": 5
}
