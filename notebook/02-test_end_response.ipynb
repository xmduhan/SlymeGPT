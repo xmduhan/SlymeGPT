{
 "cells": [
  {
   "cell_type": "code",
   "execution_count": 1,
   "id": "750d7d4a-bf8a-4a83-823f-3e0a3a52ec6b",
   "metadata": {},
   "outputs": [],
   "source": [
    "import logging\n",
    "import undetected_chromedriver as uc\n",
    "from selenium import webdriver\n",
    "\n",
    "from selenium.webdriver.common.by import By\n",
    "from selenium.webdriver.common.keys import Keys\n",
    "from time import sleep\n",
    "\n",
    "driver_version='123.0.6312.58'\n",
    "from webdriver_manager.chrome import ChromeDriverManager\n",
    "driver_executable_path = ChromeDriverManager(driver_version=driver_version).install()\n",
    "browser_executable_path = '/opt/google/chrome/google-chrome'"
   ]
  },
  {
   "cell_type": "code",
   "execution_count": 2,
   "id": "31b307d4-dfba-4023-ab6b-ca3c48383c84",
   "metadata": {},
   "outputs": [],
   "source": [
    "options = webdriver.ChromeOptions()\n",
    "options.add_argument(f\"--user-data-dir=~/.config/google-chrome/Default\")\n",
    "options.add_argument('--proxy-server=http://127.0.0.1:1081')\n",
    "\n",
    "driver = uc.Chrome(\n",
    "    driver_executable_path=driver_executable_path,\n",
    "    browser_executable_path=browser_executable_path,\n",
    "    use_subprocess=True,\n",
    "    options=options,\n",
    ")\n",
    "driver.get('https://chat.openai.com/')"
   ]
  },
  {
   "cell_type": "markdown",
   "id": "f3d57b1b-8c77-4d03-8933-143abfc71d58",
   "metadata": {},
   "source": [
    "# Question"
   ]
  },
  {
   "cell_type": "code",
   "execution_count": 3,
   "id": "79b58f13-faea-4d7f-b7fe-a8748705e3c9",
   "metadata": {},
   "outputs": [],
   "source": [
    "prompt_input = driver.find_element(By.CLASS_NAME, 'm-0.w-full.resize-none')\n",
    "driver.execute_script(\"arguments[0].value = arguments[1]\", prompt_input, '如何有效利用时间?')\n",
    "prompt_input.send_keys(Keys.ENTER)\n",
    "prompt_input.send_keys(Keys.ENTER)"
   ]
  },
  {
   "cell_type": "markdown",
   "id": "fd9c9497-9ed2-4c85-96f4-8005d4e1ce7d",
   "metadata": {},
   "source": [
    "# Answer"
   ]
  },
  {
   "cell_type": "code",
   "execution_count": 13,
   "id": "3339f436-2f26-409d-80ab-7c7e31a117a3",
   "metadata": {},
   "outputs": [
    {
     "name": "stdout",
     "output_type": "stream",
     "text": [
      "有效利用时间是提高生产力和实现目标的关键。以下是一些方法：\n",
      "制定计划：每天开始前或者每周开始前，制定一个清晰的计划，列出当天或当周要完成的任务和目标。\n",
      "设置优先级：将任务按照重要性和紧急性排序，优先处理重要且紧急的事项，然后再处理其他任务。\n",
      "集中注意力：避免分散注意力，尽可能专注于一项任务，以提高效率和质量。\n",
      "利用碎片时间：学会利用碎片时间完成小任务，比如等待开会或者排队时可以回复邮件或阅读资料。\n",
      "避免拖延：尽早开始任务，避免拖延，可以通过制定小目标和奖励自己来帮助提高自律性。\n",
      "学会委托：将一些任务委托给他人，以节省时间和精力，但要确保委托的任务适合他人完成，并且能够达到预期效果。\n",
      "定期休息：保持良好的工作与休息平衡，定期休息可以提高工作效率和创造力。\n",
      "持续学习与提升：不断学习新知识和技能，提高自己的能力水平，以应对不断变化的环境和挑战。\n",
      "使用工具与技术：利用各种工具和技术来提高工作效率，比如时间管理应用、任务管理工具等。\n",
      "定期反思与调整：定期回顾自己的时间利用情况，找出问题并进行调整，不断优化时间管理策略。\n"
     ]
    }
   ],
   "source": [
    "elements = driver.find_elements(By.CLASS_NAME, 'markdown')\n",
    "print(elements[-1].text)"
   ]
  },
  {
   "cell_type": "code",
   "execution_count": 20,
   "id": "6d230dbf-35bd-4cf5-8bc7-0615cef5d94c",
   "metadata": {},
   "outputs": [
    {
     "data": {
      "text/plain": [
       "[<undetected_chromedriver.webelement.WebElement (session=\"4a09df25c6be407b372722e0c0f4cdb9\", element=\"f.0016772B883AF1578C07D7D510C835E0.d.21A5D85815C3BE6B9A93EE975A12D890.e.773\")>]"
      ]
     },
     "execution_count": 20,
     "metadata": {},
     "output_type": "execute_result"
    }
   ],
   "source": [
    "# for x in driver.find_elements(By.CSS_SELECTOR, '.p-1.rounded-md.text-token-text-tertiary'):\n",
    "#     print(x.get_attribute('innerHTML'))\n",
    "# # driver.find_elements(By.CSS_SELECTOR, '.flex.items-center.text-xs')\n",
    "from selenium.webdriver.common.by import By\n",
    "elements = driver.find_elements(By.XPATH, \"//div[contains(text(), 'M4.5 2.5C5.05228 2.5 5.5 2.94772 5.5')]\")\n",
    "elements"
   ]
  },
  {
   "cell_type": "code",
   "execution_count": null,
   "id": "3ab89e49-d104-44a0-b0e3-c8422f7e091d",
   "metadata": {},
   "outputs": [],
   "source": [
    "<button class=\"p-1 rounded-md text-token-text-tertiary hover:text-token-text-primary md:invisible md:group-hover:visible md:group-[.final-completion]:visible\"><div class=\"flex items-center gap-1.5 text-xs\"><svg width=\"24\" height=\"24\" viewBox=\"0 0 24 24\" fill=\"none\" xmlns=\"http://www.w3.org/2000/svg\" class=\"icon-md\"><path fill-rule=\"evenodd\" clip-rule=\"evenodd\" d=\"M4.5 2.5C5.05228 2.5 5.5 2.94772 5.5 3.5V5.07196C7.19872 3.47759 9.48483 2.5 12 2.5C17.2467 2.5 21.5 6.75329 21.5 12C21.5 17.2467 17.2467 21.5 12 21.5C7.1307 21.5 3.11828 17.8375 2.565 13.1164C2.50071 12.5679 2.89327 12.0711 3.4418 12.0068C3.99033 11.9425 4.48712 12.3351 4.5514 12.8836C4.98798 16.6089 8.15708 19.5 12 19.5C16.1421 19.5 19.5 16.1421 19.5 12C19.5 7.85786 16.1421 4.5 12 4.5C9.7796 4.5 7.7836 5.46469 6.40954 7H9C9.55228 7 10 7.44772 10 8C10 8.55228 9.55228 9 9 9H4.5C3.96064 9 3.52101 8.57299 3.50073 8.03859C3.49983 8.01771 3.49958 7.99677 3.5 7.9758V3.5C3.5 2.94772 3.94771 2.5 4.5 2.5Z\" fill=\"currentColor\"></path></svg></div></button>"
   ]
  },
  {
   "cell_type": "markdown",
   "id": "c31473e5-26b1-428b-b5a8-da6b5b3ce99d",
   "metadata": {},
   "source": [
    "# Close Session"
   ]
  },
  {
   "cell_type": "code",
   "execution_count": 248,
   "id": "def83a5c-aaf0-459a-98c7-24827a04460b",
   "metadata": {},
   "outputs": [],
   "source": [
    "sleep(5)\n",
    "\n",
    "conversations = driver.find_elements(By.CSS_SELECTOR, 'div.relative.grow.whitespace-nowrap')\n",
    "conversations[0].click()\n",
    "sleep(5)\n",
    "\n",
    "more_buttons = driver.find_elements(By.CSS_SELECTOR, \n",
    "    'button.items-center.text-token-text-primary[aria-haspopup=\"menu\"]')\n",
    "more_buttons[0].click()\n",
    "sleep(5)\n",
    "\n",
    "delete_menu = driver.find_element(By.CSS_SELECTOR, 'div[role=\"menuitem\"].text-red-500')\n",
    "delete_menu.click()\n",
    "sleep(5)\n",
    "\n",
    "comfirm_button = driver.find_element(By.CSS_SELECTOR, 'button.relative.btn-danger')\n",
    "comfirm_button.click()"
   ]
  }
 ],
 "metadata": {
  "kernelspec": {
   "display_name": "Python 3 (ipykernel)",
   "language": "python",
   "name": "python3"
  },
  "language_info": {
   "codemirror_mode": {
    "name": "ipython",
    "version": 3
   },
   "file_extension": ".py",
   "mimetype": "text/x-python",
   "name": "python",
   "nbconvert_exporter": "python",
   "pygments_lexer": "ipython3",
   "version": "3.10.13"
  }
 },
 "nbformat": 4,
 "nbformat_minor": 5
}
