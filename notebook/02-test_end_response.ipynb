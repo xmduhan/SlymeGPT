{
 "cells": [
  {
   "cell_type": "code",
   "execution_count": 17,
   "id": "750d7d4a-bf8a-4a83-823f-3e0a3a52ec6b",
   "metadata": {},
   "outputs": [],
   "source": [
    "import logging\n",
    "import undetected_chromedriver as uc\n",
    "from selenium import webdriver\n",
    "\n",
    "from selenium.webdriver.common.by import By\n",
    "from selenium.webdriver.common.keys import Keys\n",
    "from time import sleep\n",
    "\n",
    "driver_version='123.0.6312.58'\n",
    "from webdriver_manager.chrome import ChromeDriverManager\n",
    "driver_executable_path = ChromeDriverManager(driver_version=driver_version).install()\n",
    "browser_executable_path = '/opt/google/chrome/google-chrome'"
   ]
  },
  {
   "cell_type": "code",
   "execution_count": 18,
   "id": "31b307d4-dfba-4023-ab6b-ca3c48383c84",
   "metadata": {},
   "outputs": [],
   "source": [
    "options = webdriver.ChromeOptions()\n",
    "options.add_argument(f\"--user-data-dir=~/.config/google-chrome/Default\")\n",
    "options.add_argument('--proxy-server=http://127.0.0.1:1081')\n",
    "\n",
    "driver = uc.Chrome(\n",
    "    driver_executable_path=driver_executable_path,\n",
    "    browser_executable_path=browser_executable_path,\n",
    "    use_subprocess=True,\n",
    "    options=options,\n",
    ")\n",
    "driver.get('https://chat.openai.com/')"
   ]
  },
  {
   "cell_type": "markdown",
   "id": "f3d57b1b-8c77-4d03-8933-143abfc71d58",
   "metadata": {},
   "source": [
    "# Question"
   ]
  },
  {
   "cell_type": "code",
   "execution_count": 3,
   "id": "79b58f13-faea-4d7f-b7fe-a8748705e3c9",
   "metadata": {},
   "outputs": [],
   "source": [
    "prompt_input = driver.find_element(By.CLASS_NAME, 'm-0.w-full.resize-none')\n",
    "driver.execute_script(\"arguments[0].value = arguments[1]\", prompt_input, '如何追女孩子?')\n",
    "prompt_input.send_keys(Keys.ENTER)\n",
    "prompt_input.send_keys(Keys.ENTER)"
   ]
  },
  {
   "cell_type": "markdown",
   "id": "fd9c9497-9ed2-4c85-96f4-8005d4e1ce7d",
   "metadata": {},
   "source": [
    "# Answer"
   ]
  },
  {
   "cell_type": "code",
   "execution_count": 6,
   "id": "3339f436-2f26-409d-80ab-7c7e31a117a3",
   "metadata": {},
   "outputs": [
    {
     "name": "stdout",
     "output_type": "stream",
     "text": [
      "追求一个女孩子需要谨慎和尊重。以下是一些建议：\n",
      "建立友好关系：在追求之前，先建立一个良好的友谊基础。与她交谈，了解她的兴趣爱好、价值观和个性。\n",
      "展现真实的自我：在与她相处时，展现真实的自我，不要做作或刻意隐藏自己。真诚和自信是吸引人的品质。\n",
      "表达诚挚的兴趣：当你对她有兴趣时，用诚挚的态度表达出来。可以通过赞美她的品质、共同兴趣的话题或者邀请她参加活动来表达你的兴趣。\n",
      "尊重她的意愿：尊重她的决定和意愿。如果她不感兴趣或者表达了拒绝，要懂得接受并尊重她的选择。\n",
      "耐心和细心：追求一个女孩子需要耐心和细心。不要急于求成，而是用时间去了解她，并建立更深层的联系。\n",
      "展现关心和支持：在她需要帮助或者支持的时候，给予她你的关心和支持。展现出你是一个可靠、负责任的人。\n",
      "尊重她的空间：给她足够的空间去思考和感受。不要过于侵扰或者过度追求，让她感到压力或者不舒服。\n",
      "坦诚沟通：如果你对她有真诚的感情，可以选择适当的时机坦诚地表达出来。但要注意掌握时机和方式，避免让她感到突然或者尴尬。\n",
      "记住，每个人都是独立的个体，有自己的喜好和感受。最重要的是尊重她的选择和意愿，不要强求或者逼迫。\n"
     ]
    }
   ],
   "source": [
    "elements = driver.find_elements(By.CLASS_NAME, 'markdown')\n",
    "print(elements[-1].text)"
   ]
  },
  {
   "cell_type": "code",
   "execution_count": 7,
   "id": "6d230dbf-35bd-4cf5-8bc7-0615cef5d94c",
   "metadata": {},
   "outputs": [
    {
     "data": {
      "text/plain": [
       "[]"
      ]
     },
     "execution_count": 7,
     "metadata": {},
     "output_type": "execute_result"
    }
   ],
   "source": [
    "# for x in driver.find_elements(By.CSS_SELECTOR, '.p-1.rounded-md.text-token-text-tertiary'):\n",
    "#     print(x.get_attribute('innerHTML'))\n",
    "# # driver.find_elements(By.CSS_SELECTOR, '.flex.items-center.text-xs')\n",
    "from selenium.webdriver.common.by import By\n",
    "elements = driver.find_elements(By.XPATH, \"//div[contains(text(), 'M4.5 2.5C5.05228 2.5 5.5 2.94772 5.5')]\")\n",
    "elements"
   ]
  },
  {
   "cell_type": "code",
   "execution_count": 20,
   "id": "03bbd6f3-cdda-48cb-be84-2c38180fcddc",
   "metadata": {},
   "outputs": [],
   "source": [
    "def generating(self):\n",
    "    elements = self.driver.find_elements(\n",
    "        By.CSS_SELECTOR, \".text-gray-400.flex.self-end.items-center.justify-center\")\n",
    "    \n",
    "    if not elements:\n",
    "        return False\n",
    "\n",
    "    return len(elements[0].children()) != 4"
   ]
  },
  {
   "cell_type": "code",
   "execution_count": 19,
   "id": "d823ec41-2c90-40e9-b8ba-ca642abb763c",
   "metadata": {},
   "outputs": [
    {
     "data": {
      "text/plain": [
       "[]"
      ]
     },
     "execution_count": 19,
     "metadata": {},
     "output_type": "execute_result"
    }
   ],
   "source": [
    "elements = driver.find_elements(By.CSS_SELECTOR, \".text-gray-400.flex.self-end.items-center.justify-center\")\n",
    "# element = elements[0]\n",
    "elements"
   ]
  },
  {
   "cell_type": "code",
   "execution_count": null,
   "id": "3ab89e49-d104-44a0-b0e3-c8422f7e091d",
   "metadata": {},
   "outputs": [
    {
     "ename": "TypeError",
     "evalue": "generating() missing 1 required positional argument: 'self'",
     "output_type": "error",
     "traceback": [
      "\u001b[0;31m---------------------------------------------------------------------------\u001b[0m",
      "\u001b[0;31mTypeError\u001b[0m                                 Traceback (most recent call last)",
      "Cell \u001b[0;32mIn[21], line 1\u001b[0m\n\u001b[0;32m----> 1\u001b[0m \u001b[43mgenerating\u001b[49m\u001b[43m(\u001b[49m\u001b[43m)\u001b[49m\n",
      "\u001b[0;31mTypeError\u001b[0m: generating() missing 1 required positional argument: 'self'"
     ]
    }
   ],
   "source": [
    "generating()"
   ]
  },
  {
   "cell_type": "markdown",
   "id": "c31473e5-26b1-428b-b5a8-da6b5b3ce99d",
   "metadata": {},
   "source": [
    "# Close Session"
   ]
  },
  {
   "cell_type": "code",
   "execution_count": 248,
   "id": "def83a5c-aaf0-459a-98c7-24827a04460b",
   "metadata": {},
   "outputs": [],
   "source": [
    "sleep(5)\n",
    "\n",
    "conversations = driver.find_elements(By.CSS_SELECTOR, 'div.relative.grow.whitespace-nowrap')\n",
    "conversations[0].click()\n",
    "sleep(5)\n",
    "\n",
    "more_buttons = driver.find_elements(By.CSS_SELECTOR, \n",
    "    'button.items-center.text-token-text-primary[aria-haspopup=\"menu\"]')\n",
    "more_buttons[0].click()\n",
    "sleep(5)\n",
    "\n",
    "delete_menu = driver.find_element(By.CSS_SELECTOR, 'div[role=\"menuitem\"].text-red-500')\n",
    "delete_menu.click()\n",
    "sleep(5)\n",
    "\n",
    "comfirm_button = driver.find_element(By.CSS_SELECTOR, 'button.relative.btn-danger')\n",
    "comfirm_button.click()"
   ]
  }
 ],
 "metadata": {
  "kernelspec": {
   "display_name": "Python 3 (ipykernel)",
   "language": "python",
   "name": "python3"
  },
  "language_info": {
   "codemirror_mode": {
    "name": "ipython",
    "version": 3
   },
   "file_extension": ".py",
   "mimetype": "text/x-python",
   "name": "python",
   "nbconvert_exporter": "python",
   "pygments_lexer": "ipython3",
   "version": "3.10.13"
  }
 },
 "nbformat": 4,
 "nbformat_minor": 5
}
