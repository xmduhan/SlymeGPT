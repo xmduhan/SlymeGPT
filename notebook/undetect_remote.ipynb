{
 "cells": [
  {
   "cell_type": "code",
   "execution_count": null,
   "id": "83e8230a-17ad-417b-af38-535b42e7f800",
   "metadata": {},
   "outputs": [],
   "source": [
    "# test_uc.py\n",
    "import undetected_chromedriver as uc\n",
    "\n",
    "\n",
    "class RemoteService:\n",
    "    SELENOID_HOST = '127.0.0.1'\n",
    "    service_url = f'http://{SELENOID_HOST}:4444'\n",
    "    path = '/usr/bin/true'\n",
    "\n",
    "    def start(self):\n",
    "        pass\n",
    "\n",
    "    def stop(self):\n",
    "        pass\n",
    "\n",
    "\n",
    "class Uchrome(uc.Chrome):\n",
    "    def __init__(self, options):\n",
    "        options._session = self\n",
    "        super(uc.Chrome, self).__init__(options=options, service=RemoteService(), keep_alive=True)\n",
    "        self._delay = 3\n",
    "        self.options = options\n",
    "\n",
    "\n",
    "options = uc.ChromeOptions()\n",
    "options.headless=False\n",
    "\n",
    "ua = 'Mozilla/5.0 (Windows NT 10.0; Win64; x64) AppleWebKit/537.36 (KHTML, like Gecko) Chrome/117.0.0.0 Safari/537.36'\n",
    "options.add_argument(f'--user-agent={ua}')\n",
    "# options.add_argument(\"--headless=new\")\n",
    "\n",
    "driver = Uchrome(options)\n",
    "# driver._configure_headless()\n",
    "driver.get('https://nowsecure.nl')\n",
    "import time; time.sleep(5)\n",
    "driver.save_screenshot('nowsecure.png')\n",
    "\n",
    "\n",
    "input('1111')\n",
    "driver.quit()\n"
   ]
  }
 ],
 "metadata": {
  "kernelspec": {
   "display_name": "Python 3 (ipykernel)",
   "language": "python",
   "name": "python3"
  },
  "language_info": {
   "codemirror_mode": {
    "name": "ipython",
    "version": 3
   },
   "file_extension": ".py",
   "mimetype": "text/x-python",
   "name": "python",
   "nbconvert_exporter": "python",
   "pygments_lexer": "ipython3",
   "version": "3.10.9"
  }
 },
 "nbformat": 4,
 "nbformat_minor": 5
}
