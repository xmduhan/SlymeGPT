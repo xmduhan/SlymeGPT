{
 "cells": [
  {
   "cell_type": "code",
   "execution_count": 224,
   "id": "750d7d4a-bf8a-4a83-823f-3e0a3a52ec6b",
   "metadata": {},
   "outputs": [],
   "source": [
    "import logging\n",
    "import undetected_chromedriver as uc\n",
    "from selenium import webdriver\n",
    "from dotenv import load_dotenv\n",
    "from os import environ as env\n",
    "from selenium.webdriver.common.by import By\n",
    "from selenium.webdriver.common.keys import Keys\n",
    "from time import sleep\n",
    "assert load_dotenv(override=True)"
   ]
  },
  {
   "cell_type": "code",
   "execution_count": 6,
   "id": "31b307d4-dfba-4023-ab6b-ca3c48383c84",
   "metadata": {},
   "outputs": [
    {
     "data": {
      "text/plain": [
       "True"
      ]
     },
     "execution_count": 6,
     "metadata": {},
     "output_type": "execute_result"
    }
   ],
   "source": [
    "options = webdriver.ChromeOptions()\n",
    "options.add_argument(f\"--user-data-dir=~/.config/google-chrome/Default\")\n",
    "\n",
    "driver = uc.Chrome(\n",
    "    driver_executable_path=env['driver_executable_path'],\n",
    "    browser_executable_path=env['browser_executable_path'],\n",
    "    use_subprocess=True,\n",
    "    options=options,\n",
    "    # debug=True,\n",
    "    # log_level=logging.DEBUG,\n",
    ")\n",
    "driver.get('https://chat.openai.com/')"
   ]
  },
  {
   "cell_type": "code",
   "execution_count": 232,
   "id": "79b58f13-faea-4d7f-b7fe-a8748705e3c9",
   "metadata": {},
   "outputs": [],
   "source": [
    "prompt_input = driver.find_element(By.CLASS_NAME, 'm-0.w-full.resize-none')\n",
    "driver.execute_script(\"arguments[0].value = arguments[1]\", prompt_input, '如何有效利用时间?')\n",
    "prompt_input.send_keys(Keys.ENTER)\n",
    "prompt_input.send_keys(Keys.ENTER)"
   ]
  },
  {
   "cell_type": "code",
   "execution_count": 247,
   "id": "3339f436-2f26-409d-80ab-7c7e31a117a3",
   "metadata": {},
   "outputs": [
    {
     "name": "stdout",
     "output_type": "stream",
     "text": [
      "有效利用时间是一项重要的技能，以下是一些方法可以帮助你做到：\n",
      "制定计划：每天开始前，列出你需要完成的任务和目标，并将它们按优先级排序。这样可以确保你专注于最重要的事情，并且不会在琐事上浪费时间。\n",
      "使用时间管理工具：利用日历应用程序、待办事项清单或专门的时间管理工具来帮助你跟踪任务并保持组织。这些工具可以帮助你提醒重要事件，确保你不会错过任何事情。\n",
      "集中注意力：尽量在工作时减少分心，关闭社交媒体、电子邮件和其他可能干扰你注意力的应用程序。专注于一项任务直到完成，这样可以提高效率并节省时间。\n",
      "划分时间段：采用时间划分法，将你的时间分为不同的块，每个块用于专注于特定的任务。这种方法可以帮助你更好地管理时间，并且避免长时间的无休止工作。\n",
      "学会拒绝：学会说“不”对那些不重要或不紧急的事情。这样可以确保你有足够的时间专注于真正重要的事情。\n",
      "保持健康的生活方式：良好的睡眠、饮食和锻炼习惯可以提高你的精力和注意力，帮助你更有效地利用时间。\n",
      "反思和调整：定期回顾你的时间管理方法，并识别哪些方面可以改进。灵活调整你的计划和方法，以适应不断变化的需求和挑战。\n",
      "通过这些方法，你可以更有效地利用时间，提高工作效率并实现更多的目标。\n"
     ]
    }
   ],
   "source": [
    "elements = driver.find_elements(By.CLASS_NAME, 'markdown')\n",
    "print(elements[-1].text)"
   ]
  },
  {
   "cell_type": "code",
   "execution_count": 87,
   "id": "1997d854-15f9-4dcf-8ee2-9ac6fa7e3742",
   "metadata": {},
   "outputs": [],
   "source": [
    "# chat_element = driver.find_element(By.CSS_SELECTOR, 'li.rela')\n"
   ]
  },
  {
   "cell_type": "code",
   "execution_count": 178,
   "id": "f43bc863-6ac7-486c-a483-bffe221f5f27",
   "metadata": {},
   "outputs": [],
   "source": [
    "# buttons = driver.find_elements(By.CLASS_NAME, \n",
    "#     'flex.items-center.text-token-text-primary.justify-center')\n",
    "# for btn in buttons:\n",
    "#     print(btn.get_attribute('outerHTML'))\n",
    "#     print('---------------------1------------------------')"
   ]
  },
  {
   "cell_type": "code",
   "execution_count": 230,
   "id": "051175d7-a6bb-4e3a-b571-3eb0a2a33414",
   "metadata": {},
   "outputs": [],
   "source": [
    "# <div class=\"relative grow overflow-hidden whitespace-nowrap\">\n"
   ]
  },
  {
   "cell_type": "code",
   "execution_count": 248,
   "id": "def83a5c-aaf0-459a-98c7-24827a04460b",
   "metadata": {},
   "outputs": [],
   "source": [
    "sleep(5)\n",
    "\n",
    "conversations = driver.find_elements(By.CSS_SELECTOR, 'div.relative.grow.whitespace-nowrap')\n",
    "conversations[0].click()\n",
    "sleep(5)\n",
    "\n",
    "more_buttons = driver.find_elements(By.CSS_SELECTOR, \n",
    "    'button.items-center.text-token-text-primary[aria-haspopup=\"menu\"]')\n",
    "more_buttons[0].click()\n",
    "sleep(5)\n",
    "\n",
    "delete_menu = driver.find_element(By.CSS_SELECTOR, 'div[role=\"menuitem\"].text-red-500')\n",
    "delete_menu.click()\n",
    "sleep(5)\n",
    "\n",
    "comfirm_button = driver.find_element(By.CSS_SELECTOR, 'button.relative.btn-danger')\n",
    "comfirm_button.click()"
   ]
  }
 ],
 "metadata": {
  "kernelspec": {
   "display_name": "Python 3 (ipykernel)",
   "language": "python",
   "name": "python3"
  },
  "language_info": {
   "codemirror_mode": {
    "name": "ipython",
    "version": 3
   },
   "file_extension": ".py",
   "mimetype": "text/x-python",
   "name": "python",
   "nbconvert_exporter": "python",
   "pygments_lexer": "ipython3",
   "version": "3.11.8"
  }
 },
 "nbformat": 4,
 "nbformat_minor": 5
}
